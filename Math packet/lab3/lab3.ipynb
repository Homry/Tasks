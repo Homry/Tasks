{
 "cells": [
  {
   "cell_type": "markdown",
   "metadata": {},
   "source": [
    "# Лабораторная работа №3"
   ]
  },
  {
   "cell_type": "markdown",
   "metadata": {},
   "source": [
    "Цель работы – практическое применение библиотеки символьных вычислений Python (SymPy) для решения задач дискретной математики и математической логики.\n",
    "<br>\n",
    "Вариант 16"
   ]
  },
  {
   "cell_type": "markdown",
   "metadata": {},
   "source": [
    "### 1 - Диофантовое уравнение"
   ]
  },
  {
   "cell_type": "markdown",
   "metadata": {},
   "source": [
    "$$ 3043x+ 2754y = 153 $$"
   ]
  },
  {
   "cell_type": "code",
   "execution_count": 7,
   "metadata": {},
   "outputs": [],
   "source": [
    "from sympy.solvers.diophantine import diophantine\n",
    "from sympy import var\n",
    "x,y=var('x y')\n",
    "answer = diophantine(3043*x+2754*y- 153)\n",
    "answer = tuple(answer)[0]\n",
    "x, y = answer"
   ]
  },
  {
   "cell_type": "code",
   "execution_count": 8,
   "metadata": {},
   "outputs": [
    {
     "name": "stdout",
     "output_type": "stream",
     "text": [
      "x = 162*t_0 - 171\n",
      "y = 189 - 179*t_0\n"
     ]
    }
   ],
   "source": [
    "print(f'x = {x}')\n",
    "print(f'y = {y}')"
   ]
  },
  {
   "cell_type": "markdown",
   "metadata": {},
   "source": [
    "### 2 - Имея открытую часть ключа RSA найти соответствующую закрытую часть и расшифровать кодированное слово."
   ]
  },
  {
   "cell_type": "markdown",
   "metadata": {},
   "source": [
    "Русское слово из четырех букв закодировано при помощи алгоритма RSA открытым ключом (e = 15,m = 46).\n",
    "Шифрованное сообщение имеет вид (43; 37; 4; 32). Подберите закрытую часть ключа и прочитайте исходное слово.\n",
    "Буквам русского алфавита соответсвуют числа в диапазоне от 2 до 32 (исключены буквы “e” и “ъ”)."
   ]
  },
  {
   "cell_type": "code",
   "execution_count": 9,
   "metadata": {},
   "outputs": [],
   "source": [
    "from sympy.crypto.crypto import rsa_private_key\n",
    "from sympy.crypto.crypto import decipher_rsa, encipher_rsa\n",
    "\n",
    "key = rsa_private_key(46, 15)\n",
    "words = [43, 37, 4, 32]"
   ]
  },
  {
   "cell_type": "code",
   "execution_count": 10,
   "metadata": {},
   "outputs": [
    {
     "name": "stdout",
     "output_type": "stream",
     "text": [
      "Result = серо\n"
     ]
    }
   ],
   "source": [
    "alph = \"абвгдежзийклмнопрстуфхцчшщыьэюя\"\n",
    "res = []\n",
    "for i in words:\n",
    "    dec = decipher_rsa(i, key)\n",
    "    symb = alph[dec-2]\n",
    "    res.append(symb)\n",
    "print(f\"Result = {''.join(res)}\")"
   ]
  },
  {
   "cell_type": "markdown",
   "metadata": {},
   "source": [
    "### Преобразование булевой функции\n",
    "\n",
    "Записать в формате ДНФ и КНФ булеву функцию, заданную своим аналитическим\n",
    "выражением.<br>\n",
    "Вариант 46<br>\n",
    " \n",
    " $$f(x, y, z) = (y(x \\newcommand*\\xor{\\oplus} y)) \\newcommand*\\xor{\\oplus} ((zx \\vee (y \\vee z)) $$\n"
   ]
  },
  {
   "cell_type": "code",
   "execution_count": 11,
   "metadata": {},
   "outputs": [],
   "source": [
    "from sympy.logic.boolalg import *"
   ]
  },
  {
   "cell_type": "code",
   "execution_count": 12,
   "metadata": {},
   "outputs": [
    {
     "name": "stdout",
     "output_type": "stream",
     "text": [
      "КНФ = (y | z) & (x | ~y)\n"
     ]
    }
   ],
   "source": [
    "x,y,z=var('x y z')\n",
    "print(f\"КНФ = {to_cnf((y & (x^y))^((z & x) | (y | z)), True)}\")"
   ]
  },
  {
   "cell_type": "code",
   "execution_count": 13,
   "metadata": {},
   "outputs": [
    {
     "name": "stdout",
     "output_type": "stream",
     "text": [
      "ДНФ = (x & y) | (z & ~y)\n"
     ]
    }
   ],
   "source": [
    "print(f\"ДНФ = {to_dnf((y & (x^y))^((z & x) | (y | z)), True)}\")"
   ]
  },
  {
   "cell_type": "code",
   "execution_count": null,
   "metadata": {},
   "outputs": [],
   "source": []
  },
  {
   "cell_type": "code",
   "execution_count": null,
   "metadata": {},
   "outputs": [],
   "source": []
  }
 ],
 "metadata": {
  "kernelspec": {
   "display_name": "Python 3",
   "language": "python",
   "name": "python3"
  },
  "language_info": {
   "codemirror_mode": {
    "name": "ipython",
    "version": 3
   },
   "file_extension": ".py",
   "mimetype": "text/x-python",
   "name": "python",
   "nbconvert_exporter": "python",
   "pygments_lexer": "ipython3",
   "version": "3.8.5"
  }
 },
 "nbformat": 4,
 "nbformat_minor": 4
}
